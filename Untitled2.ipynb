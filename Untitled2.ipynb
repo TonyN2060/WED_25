{
 "cells": [
  {
   "cell_type": "code",
   "execution_count": 1,
   "id": "20bbd34e-3d53-4eb8-96ee-8be38a8f2f97",
   "metadata": {},
   "outputs": [
    {
     "ename": "KeyError",
     "evalue": "'nodes'",
     "output_type": "error",
     "traceback": [
      "\u001b[0;31m---------------------------------------------------------------------------\u001b[0m",
      "\u001b[0;31mKeyError\u001b[0m                                  Traceback (most recent call last)",
      "Cell \u001b[0;32mIn[1], line 10\u001b[0m\n\u001b[1;32m      7\u001b[0m     mst_data \u001b[38;5;241m=\u001b[39m json\u001b[38;5;241m.\u001b[39mload(f)\n\u001b[1;32m      9\u001b[0m \u001b[38;5;66;03m# Extract nodes and create a lookup for their coordinates\u001b[39;00m\n\u001b[0;32m---> 10\u001b[0m node_coords \u001b[38;5;241m=\u001b[39m {node[\u001b[38;5;124m\"\u001b[39m\u001b[38;5;124mid\u001b[39m\u001b[38;5;124m\"\u001b[39m]: Point(node[\u001b[38;5;124m\"\u001b[39m\u001b[38;5;124mgeometry\u001b[39m\u001b[38;5;124m\"\u001b[39m]) \u001b[38;5;28;01mfor\u001b[39;00m node \u001b[38;5;129;01min\u001b[39;00m \u001b[43mmst_data\u001b[49m\u001b[43m[\u001b[49m\u001b[38;5;124;43m\"\u001b[39;49m\u001b[38;5;124;43mnodes\u001b[39;49m\u001b[38;5;124;43m\"\u001b[39;49m\u001b[43m]\u001b[49m}\n\u001b[1;32m     12\u001b[0m \u001b[38;5;66;03m# Extract edges and create LineStrings\u001b[39;00m\n\u001b[1;32m     13\u001b[0m edges \u001b[38;5;241m=\u001b[39m [\n\u001b[1;32m     14\u001b[0m     {\n\u001b[1;32m     15\u001b[0m         \u001b[38;5;124m\"\u001b[39m\u001b[38;5;124mgeometry\u001b[39m\u001b[38;5;124m\"\u001b[39m: LineString([node_coords[edge[\u001b[38;5;124m\"\u001b[39m\u001b[38;5;124msource\u001b[39m\u001b[38;5;124m\"\u001b[39m]], node_coords[edge[\u001b[38;5;124m\"\u001b[39m\u001b[38;5;124mtarget\u001b[39m\u001b[38;5;124m\"\u001b[39m]]]),\n\u001b[0;32m   (...)\u001b[0m\n\u001b[1;32m     18\u001b[0m     \u001b[38;5;28;01mfor\u001b[39;00m edge \u001b[38;5;129;01min\u001b[39;00m mst_data[\u001b[38;5;124m\"\u001b[39m\u001b[38;5;124medges\u001b[39m\u001b[38;5;124m\"\u001b[39m]\n\u001b[1;32m     19\u001b[0m ]\n",
      "\u001b[0;31mKeyError\u001b[0m: 'nodes'"
     ]
    }
   ],
   "source": [
    "import json\n",
    "import geopandas as gpd\n",
    "from shapely.geometry import Point, LineString\n",
    "\n",
    "# Load MST JSON\n",
    "with open(\"mst_network.geojson\") as f:\n",
    "    mst_data = json.load(f)\n",
    "\n",
    "# Extract nodes and create a lookup for their coordinates\n",
    "node_coords = {node[\"id\"]: Point(node[\"geometry\"]) for node in mst_data[\"nodes\"]}\n",
    "\n",
    "# Extract edges and create LineStrings\n",
    "edges = [\n",
    "    {\n",
    "        \"geometry\": LineString([node_coords[edge[\"source\"]], node_coords[edge[\"target\"]]]),\n",
    "        \"weight\": edge[\"weight\"]\n",
    "    }\n",
    "    for edge in mst_data[\"edges\"]\n",
    "]\n",
    "\n",
    "# Convert to GeoDataFrame\n",
    "edges_gdf = gpd.GeoDataFrame(edges, crs=\"EPSG:4326\")\n",
    "\n",
    "# Save as GeoJSON or Shapefile\n",
    "edges_gdf.to_file(\"mst_network.geojson\", driver=\"GeoJSON\")\n"
   ]
  },
  {
   "cell_type": "code",
   "execution_count": null,
   "id": "1d4f4e69-2b91-49f5-8dfd-fc78b3074ea9",
   "metadata": {},
   "outputs": [],
   "source": []
  }
 ],
 "metadata": {
  "kernelspec": {
   "display_name": "Python 3 (ipykernel)",
   "language": "python",
   "name": "python3"
  },
  "language_info": {
   "codemirror_mode": {
    "name": "ipython",
    "version": 3
   },
   "file_extension": ".py",
   "mimetype": "text/x-python",
   "name": "python",
   "nbconvert_exporter": "python",
   "pygments_lexer": "ipython3",
   "version": "3.12.2"
  }
 },
 "nbformat": 4,
 "nbformat_minor": 5
}
