{
 "cells": [
  {
   "cell_type": "code",
   "execution_count": 2,
   "id": "3e58ea8f-dc00-47fc-846c-5970d17f4be0",
   "metadata": {},
   "outputs": [],
   "source": [
    "import geopandas as gpd\n",
    "import networkx as nx\n",
    "from shapely.geometry import LineString\n",
    "\n",
    "points = gpd.read_file(\"data_2_merge.geojson\")\n",
    "G = nx.Graph()\n",
    "\n",
    "# Adding points to the graph\n",
    "for _, point in points.iterrows():\n",
    "    G.add_node((point.geometry.x, point.geometry.y))\n",
    "\n",
    "# Distances\n",
    "for i, start in points.iterrows():\n",
    "    for j, end in points.iterrows():\n",
    "        if i != j:\n",
    "            dist = start.geometry.distance(end.geometry)  \n",
    "            G.add_edge((start.geometry.x, start.geometry.y), (end.geometry.x, end.geometry.y), weight=dist)\n",
    "\n",
    "# Minimum Spanning Tree\n",
    "mst = nx.minimum_spanning_tree(G)\n",
    "\n",
    "# Converting the  MST edges to GDF\n",
    "mst_edges = [\n",
    "    LineString([G.nodes[start]['geometry'], G.nodes[end]['geometry']])\n",
    "    for start, end in mst.edges()\n",
    "]\n",
    "mst_gdf = gpd.GeoDataFrame(geometry=mst_edges, crs=\"EPSG:4326\")\n",
    "mst_gdf.to_file(\"mst_network.geojson\", driver=\"GeoJSON\")\n"
   ]
  },
  {
   "cell_type": "code",
   "execution_count": 4,
   "id": "ccf7b8c7-52a0-472b-8150-ad3d60e4cf85",
   "metadata": {},
   "outputs": [],
   "source": [
    "import json"
   ]
  },
  {
   "cell_type": "code",
   "execution_count": 5,
   "id": "12c66745-9525-47d9-b7da-cc3708d902eb",
   "metadata": {},
   "outputs": [],
   "source": [
    "with open ('mst_network.geojson') as f :\n",
    "    mst = json.load(f)\n",
    "    "
   ]
  },
  {
   "cell_type": "code",
   "execution_count": 6,
   "id": "48142d3d-fa16-4af4-8685-7fe9177a0b73",
   "metadata": {},
   "outputs": [
    {
     "data": {
      "text/plain": [
       "{'type': 'FeatureCollection',\n",
       " 'name': 'mst_network',\n",
       " 'crs': {'type': 'name',\n",
       "  'properties': {'name': 'urn:ogc:def:crs:OGC:1.3:CRS84'}},\n",
       " 'features': []}"
      ]
     },
     "execution_count": 6,
     "metadata": {},
     "output_type": "execute_result"
    }
   ],
   "source": [
    "mst"
   ]
  },
  {
   "cell_type": "code",
   "execution_count": null,
   "id": "8103052e-011c-47d4-abe3-37e568807bda",
   "metadata": {},
   "outputs": [],
   "source": []
  },
  {
   "cell_type": "code",
   "execution_count": null,
   "id": "090c7b93-f3b8-4efc-9f1d-9973ea9a1636",
   "metadata": {},
   "outputs": [],
   "source": []
  }
 ],
 "metadata": {
  "kernelspec": {
   "display_name": "Python 3 (ipykernel)",
   "language": "python",
   "name": "python3"
  },
  "language_info": {
   "codemirror_mode": {
    "name": "ipython",
    "version": 3
   },
   "file_extension": ".py",
   "mimetype": "text/x-python",
   "name": "python",
   "nbconvert_exporter": "python",
   "pygments_lexer": "ipython3",
   "version": "3.12.2"
  }
 },
 "nbformat": 4,
 "nbformat_minor": 5
}
